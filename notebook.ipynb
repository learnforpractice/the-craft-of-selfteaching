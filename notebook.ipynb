{
 "cells": [
  {
   "cell_type": "markdown",
   "metadata": {},
   "source": [
    "[How-To-Ask-Questions-The-Smart-Way](https://github.com/selfteaching/How-To-Ask-Questions-The-Smart-Way)\n",
    "\n",
    "[PythonDecoratorLibrary](https://wiki.python.org/moin/PythonDecoratorLibrary)\n",
    "[20-tips-use-google-search-efficiently](https://www.lifehack.org/articles/technology/20-tips-use-google-search-efficiently.html)\n",
    "\n",
    "[如何创造自己生命中的惊喜](https://mp.weixin.qq.com/s?__biz=MjM5NDg2NjA4MQ==&mid=200693527&idx=1&sn=b3ab4b84917cd4717e78389a574eb05c&scene=3#rd)\n",
    "\n",
    "其次，那些真正有水平的程序员，我是遇不到的 ，因为他们根本就不与非专业人士打交道。这是事后的反思，因为等我真正成了一个“码农”，我才发现很多真正的程序员之前是不可能跟我打成一片的——或者反过来说，我是不可能跟他们打成一片的。\n",
    "\n",
    "\n",
    "\n",
    "再次，这段经历告诉我，但凡一个靠谱的、有能力的程序员，随便自己搞出一个东西就能赚钱，以教育行业的薪水水平（或者说，之前我给出的薪资水平，即便我当时刻意提高了相当的水准），根本不可能找到合适的人……而这，是我不成为真正的程序员之前，仅凭自己的推理是不可能真正理解的。\n",
    "\n",
    "另外一个创造意外好运的重要心态是“拥有足够的耐心”。要相信很多事情需要很久很久才能真正浮现出原貌。\n",
    "\n",
    "\n",
    "\n",
    "[[209]结果的差距终究是人的差距](http://www.scalerstalk.com/209-bitcoin)\n",
    "\n",
    "所以按照上述框架分析，回顾曾经的自己，对于刚刚出炉的好机会（budding opportunity），若格局上狭隘，执行力与学习力不足，耐心缺失，心智不成熟，抓不住机会真是应该的。\n",
    "\n",
    "结果的差距终究是人的差距。但是好歹我们都在不断地绘制自己的未来，所以下一笔（stroke），努力画好点。"
   ]
  },
  {
   "cell_type": "code",
   "execution_count": null,
   "metadata": {},
   "outputs": [],
   "source": []
  },
  {
   "cell_type": "markdown",
   "metadata": {},
   "source": [
    "## [Reference Count Details](https://docs.python.org/2.0/api/refcountDetails.html)"
   ]
  },
  {
   "cell_type": "code",
   "execution_count": 8,
   "metadata": {},
   "outputs": [
    {
     "name": "stdout",
     "output_type": "stream",
     "text": [
      "hello,world\n"
     ]
    }
   ],
   "source": [
    "print('hello,world')"
   ]
  },
  {
   "cell_type": "code",
   "execution_count": 1,
   "metadata": {},
   "outputs": [
    {
     "data": {
      "text/plain": [
       "False"
      ]
     },
     "execution_count": 1,
     "metadata": {},
     "output_type": "execute_result"
    }
   ],
   "source": [
    "a = 10000000000\n",
    "b = 10000000000\n",
    "a is b"
   ]
  },
  {
   "cell_type": "code",
   "execution_count": 4,
   "metadata": {},
   "outputs": [
    {
     "data": {
      "text/plain": [
       "False"
      ]
     },
     "execution_count": 4,
     "metadata": {},
     "output_type": "execute_result"
    }
   ],
   "source": [
    "a = 10000000000\n",
    "b = 10000000000\n",
    "id(a) == id(b)"
   ]
  },
  {
   "cell_type": "code",
   "execution_count": 2,
   "metadata": {},
   "outputs": [
    {
     "data": {
      "text/plain": [
       "True"
      ]
     },
     "execution_count": 2,
     "metadata": {},
     "output_type": "execute_result"
    }
   ],
   "source": [
    "a = 1\n",
    "b = 1\n",
    "a is b"
   ]
  },
  {
   "cell_type": "code",
   "execution_count": 3,
   "metadata": {},
   "outputs": [
    {
     "data": {
      "text/plain": [
       "True"
      ]
     },
     "execution_count": 3,
     "metadata": {},
     "output_type": "execute_result"
    }
   ],
   "source": [
    "a = 1\n",
    "b = 1\n",
    "id(a) == id(b)"
   ]
  },
  {
   "cell_type": "code",
   "execution_count": 5,
   "metadata": {},
   "outputs": [
    {
     "data": {
      "text/plain": [
       "['In',\n",
       " 'Out',\n",
       " '_',\n",
       " '_1',\n",
       " '_2',\n",
       " '_3',\n",
       " '_4',\n",
       " '__',\n",
       " '___',\n",
       " '__builtin__',\n",
       " '__builtins__',\n",
       " '__doc__',\n",
       " '__loader__',\n",
       " '__name__',\n",
       " '__package__',\n",
       " '__spec__',\n",
       " '_dh',\n",
       " '_i',\n",
       " '_i1',\n",
       " '_i2',\n",
       " '_i3',\n",
       " '_i4',\n",
       " '_i5',\n",
       " '_ih',\n",
       " '_ii',\n",
       " '_iii',\n",
       " '_oh',\n",
       " 'a',\n",
       " 'b',\n",
       " 'db',\n",
       " 'eosapi',\n",
       " 'exit',\n",
       " 'get_ipython',\n",
       " 'quit']"
      ]
     },
     "execution_count": 5,
     "metadata": {},
     "output_type": "execute_result"
    }
   ],
   "source": [
    "dir()"
   ]
  },
  {
   "cell_type": "code",
   "execution_count": 6,
   "metadata": {},
   "outputs": [
    {
     "data": {
      "text/plain": [
       "<module 'builtins' (built-in)>"
      ]
     },
     "execution_count": 6,
     "metadata": {},
     "output_type": "execute_result"
    }
   ],
   "source": [
    "__builtins__"
   ]
  },
  {
   "cell_type": "code",
   "execution_count": 18,
   "metadata": {},
   "outputs": [
    {
     "name": "stdout",
     "output_type": "stream",
     "text": [
      "['__doc__', '__loader__', '__name__', '__package__', '__spec__']\n",
      "hello\n",
      "['__builtins__', '__doc__', '__loader__', '__name__', '__package__', '__spec__']\n",
      "<class 'dict'>\n"
     ]
    }
   ],
   "source": [
    "import sys\n",
    "hello = type(sys)('hello')\n",
    "print(dir(hello))\n",
    "exec('print(\"hello\")', hello.__dict__)\n",
    "print(dir(hello))\n",
    "print(type(hello.__builtins__))"
   ]
  },
  {
   "cell_type": "code",
   "execution_count": 19,
   "metadata": {},
   "outputs": [
    {
     "data": {
      "text/plain": [
       "4343113912"
      ]
     },
     "execution_count": 19,
     "metadata": {},
     "output_type": "execute_result"
    }
   ],
   "source": [
    "id(hello.__builtins__)"
   ]
  },
  {
   "cell_type": "code",
   "execution_count": 20,
   "metadata": {},
   "outputs": [
    {
     "data": {
      "text/plain": [
       "4343113912"
      ]
     },
     "execution_count": 20,
     "metadata": {},
     "output_type": "execute_result"
    }
   ],
   "source": [
    "id(__builtins__.__dict__)"
   ]
  }
 ],
 "metadata": {
  "kernelspec": {
   "display_name": "Python 3",
   "language": "python",
   "name": "python3"
  },
  "language_info": {
   "codemirror_mode": {
    "name": "ipython",
    "version": 3
   },
   "file_extension": ".py",
   "mimetype": "text/x-python",
   "name": "python",
   "nbconvert_exporter": "python",
   "pygments_lexer": "ipython3",
   "version": "3.7.2"
  }
 },
 "nbformat": 4,
 "nbformat_minor": 2
}
